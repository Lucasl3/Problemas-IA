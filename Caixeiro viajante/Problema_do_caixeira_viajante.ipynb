{
  "nbformat": 4,
  "nbformat_minor": 0,
  "metadata": {
    "colab": {
      "name": "Problema do caixeira viajante",
      "provenance": [],
      "authorship_tag": "ABX9TyNuP3CfTVFTSeeo7hQJv4Jx",
      "include_colab_link": true
    },
    "kernelspec": {
      "name": "python3",
      "display_name": "Python 3"
    },
    "language_info": {
      "name": "python"
    }
  },
  "cells": [
    {
      "cell_type": "markdown",
      "metadata": {
        "id": "view-in-github",
        "colab_type": "text"
      },
      "source": [
        "<a href=\"https://colab.research.google.com/github/Lucasl3/Problemas-IA/blob/main/Caixeiro%20viajante/Problema_do_caixeira_viajante.ipynb\" target=\"_parent\"><img src=\"https://colab.research.google.com/assets/colab-badge.svg\" alt=\"Open In Colab\"/></a>"
      ]
    },
    {
      "cell_type": "code",
      "metadata": {
        "id": "ox1eNQwOpoyr"
      },
      "source": [
        "from collections import deque\n",
        "import random, sys\n"
      ],
      "execution_count": null,
      "outputs": []
    },
    {
      "cell_type": "code",
      "metadata": {
        "id": "wmuJaiwMxH-L"
      },
      "source": [
        "cidades = [[0, 30, 84, 56, None, 70, None, 75, None, 80],\n",
        "\t\t\t[30, 0, 65, None, None, None, 70, None, None, 40],\n",
        "\t\t\t[84, 65, 0, 74, 52, 55, None, 60, 143, 48],\n",
        "\t\t\t[56, None, 74, 0, 135, None, None, 20, None, None],\n",
        "\t\t\t[None, None, 52, 135, 0, 70, None, 122, 98, 80],\n",
        "\t\t\t[70, None, 55, None, 70, 0, 63, None, 82, 35],\n",
        "\t\t\t[None, 70, None, None, None, 63, 0, None, 120, 57],\n",
        "\t\t\t[75, None, 135, 20, 122, None, None, 0, None, None],\n",
        "\t\t\t[None, None, 143, None, 98, 82, 120, None, 0, None],\n",
        "\t\t\t[80, 40, 48, None, 80, 35, 57, None, None, 0]]\n",
        "\n"
      ],
      "execution_count": null,
      "outputs": []
    },
    {
      "cell_type": "code",
      "metadata": {
        "id": "yM7GrP89Yjmz"
      },
      "source": [
        "def geraEstado(cidadeInicial):\n",
        "  while True:\n",
        "    caminho = [x for x in range(10) if x != cidadeInicial]\n",
        "    random.shuffle(caminho)\n",
        "    caminho.insert(0, cidadeInicial)\n",
        "    caminho.append(cidadeInicial)\n",
        "    if caminhoValido(caminho):\n",
        "      break\n",
        "  \n",
        "  return caminho"
      ],
      "execution_count": null,
      "outputs": []
    },
    {
      "cell_type": "code",
      "metadata": {
        "id": "A5-rMrgHHV-j"
      },
      "source": [
        "def caminhoValido(estado):\n",
        "  # print(estado)\n",
        "  for i in range(len(estado) - 1):\n",
        "    de = estado[i]\n",
        "    para = estado[i+1]\n",
        "    \n",
        "    if cidades[de][para] is None:\n",
        "      return False\n",
        "\n",
        "  return True\n"
      ],
      "execution_count": null,
      "outputs": []
    },
    {
      "cell_type": "code",
      "metadata": {
        "id": "IUKFjUxrF-Us"
      },
      "source": [
        "def valorEstado(estado):\n",
        "  # print(estado)\n",
        "  sum = 0\n",
        "  for i in range(len(estado) - 1):\n",
        "    de = estado[i]\n",
        "    para = estado[i+1]\n",
        "    \n",
        "    sum += cidades[de][para]\n",
        "  \n",
        "  return sum\n",
        "    "
      ],
      "execution_count": null,
      "outputs": []
    },
    {
      "cell_type": "code",
      "metadata": {
        "id": "Dk4WXQiVFSc5"
      },
      "source": [
        "def hillClimbing(estado, cidadeInicial):\n",
        "  iteracoes = 50000\n",
        "  menorDistancia = sys.maxsize\n",
        "  semMelhora = 0\n",
        "\n",
        "  while iteracoes > 0:\n",
        "    i = random.choice(range(1, 10))\n",
        "    j = random.choice(range(1, 10))\n",
        "    # j = random.choice([x for x in range(1, 10) if x != i])\n",
        "\n",
        "    proximoEstado = estado.copy()\n",
        "    proximoEstado[i], proximoEstado[j] = proximoEstado[j], proximoEstado[i]\n",
        "\n",
        "    if semMelhora > 200:\n",
        "      semMelhora = 0\n",
        "      # print('Melhor estado até agora ', estado, '\\n')\n",
        "      proximoEstado = geraEstado(cidadeInicial)\n",
        "    else:\n",
        "      semMelhora += 1\n",
        "\n",
        "    if caminhoValido(proximoEstado) and (valorEstado(proximoEstado) <= menorDistancia):\n",
        "      # semMelhora = 0\n",
        "      estado = proximoEstado.copy()\n",
        "      menorDistancia = valorEstado(estado)\n",
        "\n",
        "    iteracoes -= 1\n",
        "  return (estado, menorDistancia)\n",
        "\n"
      ],
      "execution_count": null,
      "outputs": []
    },
    {
      "cell_type": "code",
      "metadata": {
        "id": "gJh7A2MR14y_"
      },
      "source": [
        "def printaCaminho(estado):\n",
        "  # print(estado)\n",
        "  print('Começando a viagem.')\n",
        "  print('_____________________________________________________________')\n",
        "  sum = 0\n",
        "  for i in range(len(estado) - 1):\n",
        "    de = estado[i]\n",
        "    para = estado[i+1]\n",
        "    custoViagem = cidades[de][para]\n",
        "    sum += custoViagem\n",
        "    \n",
        "    print('Indo da cidade %d para a cidade %d com custo de viagem de %d km' % (de + 1, para + 1, custoViagem))\n",
        "    print('Custo da viagem até agora %d km' % (sum))\n",
        "    print('_____________________________________________________________')\n",
        "    \n",
        "  \n",
        "  return sum"
      ],
      "execution_count": null,
      "outputs": []
    },
    {
      "cell_type": "code",
      "metadata": {
        "colab": {
          "base_uri": "https://localhost:8080/"
        },
        "id": "WMsmS0qxTZoo",
        "outputId": "7bf3d68f-2c9f-43f1-fe6d-c1305657af85"
      },
      "source": [
        "def main():\n",
        "  cidadeInicial = int(input('Cidade inicial: ')) - 1\n",
        "  caminhoInicial = geraEstado(cidadeInicial)\n",
        "  melhorEstado, melhorDistancia = hillClimbing(caminhoInicial, cidadeInicial)  \n",
        "\n",
        "  printaCaminho(melhorEstado)\n",
        "\n",
        "  melhorEstado = [x + 1 for x in melhorEstado]\n",
        "\n",
        "  print('Melhor caminho encontrado: ', melhorEstado)\n",
        "  print('Melhor distância encontrada: %d km' % (melhorDistancia))\n",
        "if __name__ == \"__main__\":\n",
        "  main()"
      ],
      "execution_count": null,
      "outputs": [
        {
          "output_type": "stream",
          "name": "stdout",
          "text": [
            "Cidade inicial: 10\n",
            "Começando a viagem.\n",
            "_____________________________________________________________\n",
            "Indo da cidade 10 para a cidade 7 com custo de viagem de 57 km\n",
            "Custo da viagem até agora 57 km\n",
            "_____________________________________________________________\n",
            "Indo da cidade 7 para a cidade 6 com custo de viagem de 63 km\n",
            "Custo da viagem até agora 120 km\n",
            "_____________________________________________________________\n",
            "Indo da cidade 6 para a cidade 9 com custo de viagem de 82 km\n",
            "Custo da viagem até agora 202 km\n",
            "_____________________________________________________________\n",
            "Indo da cidade 9 para a cidade 5 com custo de viagem de 98 km\n",
            "Custo da viagem até agora 300 km\n",
            "_____________________________________________________________\n",
            "Indo da cidade 5 para a cidade 3 com custo de viagem de 52 km\n",
            "Custo da viagem até agora 352 km\n",
            "_____________________________________________________________\n",
            "Indo da cidade 3 para a cidade 8 com custo de viagem de 60 km\n",
            "Custo da viagem até agora 412 km\n",
            "_____________________________________________________________\n",
            "Indo da cidade 8 para a cidade 4 com custo de viagem de 20 km\n",
            "Custo da viagem até agora 432 km\n",
            "_____________________________________________________________\n",
            "Indo da cidade 4 para a cidade 1 com custo de viagem de 56 km\n",
            "Custo da viagem até agora 488 km\n",
            "_____________________________________________________________\n",
            "Indo da cidade 1 para a cidade 2 com custo de viagem de 30 km\n",
            "Custo da viagem até agora 518 km\n",
            "_____________________________________________________________\n",
            "Indo da cidade 2 para a cidade 10 com custo de viagem de 40 km\n",
            "Custo da viagem até agora 558 km\n",
            "_____________________________________________________________\n",
            "Melhor caminho encontrado:  [10, 7, 6, 9, 5, 3, 8, 4, 1, 2, 10]\n",
            "Melhor distância encontrada: 558 km\n"
          ]
        }
      ]
    }
  ]
}