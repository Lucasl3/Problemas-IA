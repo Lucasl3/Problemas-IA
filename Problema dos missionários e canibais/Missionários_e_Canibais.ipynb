{
  "nbformat": 4,
  "nbformat_minor": 0,
  "metadata": {
    "colab": {
      "name": "Missionários e Canibais",
      "provenance": [],
      "collapsed_sections": [],
      "authorship_tag": "ABX9TyNTgoheP2khEMLmmeVLQMrW",
      "include_colab_link": true
    },
    "kernelspec": {
      "name": "python3",
      "display_name": "Python 3"
    },
    "language_info": {
      "name": "python"
    }
  },
  "cells": [
    {
      "cell_type": "markdown",
      "metadata": {
        "id": "view-in-github",
        "colab_type": "text"
      },
      "source": [
        "<a href=\"https://colab.research.google.com/github/Lucasl3/Problemas-IA/blob/main/Problema%20dos%20mission%C3%A1rios%20e%20canibais/Mission%C3%A1rios_e_Canibais.ipynb\" target=\"_parent\"><img src=\"https://colab.research.google.com/assets/colab-badge.svg\" alt=\"Open In Colab\"/></a>"
      ]
    },
    {
      "cell_type": "markdown",
      "metadata": {
        "id": "-og0Sp5yULxf"
      },
      "source": [
        "# Problema dos missionários e canibais\n"
      ]
    },
    {
      "cell_type": "markdown",
      "metadata": {
        "id": "UAxBtV49TbCQ"
      },
      "source": [
        "## Estados\n",
        "\n",
        "*   estadoInicial[0] - Quantidade de missionários no lado esquerdo\n",
        "*   estadoInicial[1] - Quantidade de canibais no lado esquerdo\n",
        "*   estadoInicial[2] - Lado do barco 0 - direita - 1 - esquerda\n"
      ]
    },
    {
      "cell_type": "code",
      "metadata": {
        "id": "WH4-6blJlPS5"
      },
      "source": [
        "from collections import deque"
      ],
      "execution_count": null,
      "outputs": []
    },
    {
      "cell_type": "code",
      "metadata": {
        "id": "G7r00J4hrIXD"
      },
      "source": [
        "Grafo, Movimentos = dict(), dict()"
      ],
      "execution_count": null,
      "outputs": []
    },
    {
      "cell_type": "code",
      "metadata": {
        "id": "QDp0YclyigjZ"
      },
      "source": [
        "class Estados():\n",
        "  def __init__(self):\n",
        "    self.estadoInicial = (3, 3, 1)\n",
        "    self.estadoFinal = (0, 0, 0)\n",
        "    self.movimentos = [(1, 0), (2, 0), (1, 1), (0, 1), (0, 2)]\n",
        "    self.visitado = {}\n",
        "\n",
        "  def movimentoValido(self, proximoEstado):\n",
        "    return (0 <= proximoEstado[0] <= 3) and (0 <= proximoEstado[1] <= 3)\n",
        "\n",
        "  def ehEstadoFinal(self, estadoAtual):\n",
        "    return estadoAtual == self.estadoFinal\n",
        "\n",
        "  def estadoInvalido(self, estadoAtual):\n",
        "    numeroMissionariosDireita = 3 - estadoAtual[0]\n",
        "    numeroCanibaisDireita = 3 - estadoAtual[1]\n",
        "    numeroMissionariosEsquerda = estadoAtual[0]\n",
        "    numeroCanibaisEsquerda = estadoAtual[1]\n",
        "    return (numeroMissionariosDireita > 0 and numeroCanibaisDireita > numeroMissionariosDireita) or (numeroMissionariosEsquerda > 0 and numeroCanibaisEsquerda > numeroMissionariosEsquerda)\n",
        "\n",
        "  def bfs(self):\n",
        "    queue = deque()\n",
        "    queue.append(self.estadoInicial)\n",
        "    self.visitado[self.estadoInicial] = True\n",
        "\n",
        "\n",
        "    while queue:\n",
        "      estadoAtual = queue.popleft()\n",
        "\n",
        "      if self.ehEstadoFinal(estadoAtual):\n",
        "        return True\n",
        "      elif not self.estadoInvalido(estadoAtual):\n",
        "        aux = -1 if estadoAtual[2] == 1 else 1\n",
        "        for m, c in self.movimentos:\n",
        "\n",
        "          proximoEstado = (estadoAtual[0] + aux * m, estadoAtual[1] + aux * c, int(not estadoAtual[2]))\n",
        "\n",
        "          if (proximoEstado not in self.visitado) and (self.movimentoValido(proximoEstado)):\n",
        "            self.visitado[proximoEstado] = True\n",
        "\n",
        "            queue.append(proximoEstado)\n",
        "            Grafo[estadoAtual].append(proximoEstado)\n",
        "            Grafo[proximoEstado] = list()\n",
        "            Movimentos[proximoEstado] = (m, c)\n",
        "\n",
        "    \n",
        "    return False\n",
        "\n",
        "  def inicio(self):\n",
        "    self.visitado = dict()\n",
        "    Grafo[self.estadoInicial] = list()\n",
        "    Movimentos[self.estadoInicial] = None\n",
        "\n",
        "    if self.bfs():\n",
        "      print('Um caminho foi achado.')\n",
        "    else:\n",
        "      print('Não foi possível fazer a travessia corretamente.')\n",
        " \n",
        "\n"
      ],
      "execution_count": null,
      "outputs": []
    },
    {
      "cell_type": "code",
      "metadata": {
        "id": "ZIS1G2EOGA_V"
      },
      "source": [
        "def achaCaminho(grafo, estadoInicial, estadoFinal, caminho=[]):\n",
        "  caminho = caminho + [estadoInicial] \n",
        "  if estadoInicial == estadoFinal:\n",
        "    return caminho\n",
        "  for node in grafo[estadoInicial]:\n",
        "    if node not in caminho:\n",
        "      novoCaminho = achaCaminho(grafo, node, estadoFinal, caminho) \n",
        "      if novoCaminho:\n",
        "        return novoCaminho\n",
        "\n",
        "def printaCaminho(caminho, movimentos):\n",
        "  for i in range(0, len(caminho) -1):\n",
        "    missionarios, canibais = movimentos[caminho[i + 1]]\n",
        "    missionariosEsquerda, canibaisEsquerda, ladoBarco = caminho[i+1]\n",
        "    lado = 'Esquerda' if ladoBarco == 1 else 'Direita'\n",
        "    print('%d° movimento: %d Missionário(s) e %d Canibal(is) no barco' % (i + 1, missionarios, canibais))\n",
        "    print('Indo para a ', lado)\n",
        "    print(caminho[i], ' --> ', caminho[i+1])\n",
        "    print('-------------------------------------------------------')\n"
      ],
      "execution_count": null,
      "outputs": []
    },
    {
      "cell_type": "code",
      "metadata": {
        "colab": {
          "base_uri": "https://localhost:8080/"
        },
        "id": "qCR7G8vdkrLL",
        "outputId": "34701322-35a3-4098-8232-cfb2a28ce46b"
      },
      "source": [
        "problema = Estados()\n",
        "problema.inicio()\n",
        "caminho = achaCaminho(Grafo, (3, 3, 1), (0, 0, 0))\n",
        "printaCaminho(caminho, Movimentos)"
      ],
      "execution_count": null,
      "outputs": [
        {
          "output_type": "stream",
          "name": "stdout",
          "text": [
            "Um caminho foi achado.\n",
            "1° movimento: 1 Missionário(s) e 1 Canibal(is) no barco\n",
            "Indo para a  Direita\n",
            "(3, 3, 1)  -->  (2, 2, 0)\n",
            "-------------------------------------------------------\n",
            "2° movimento: 1 Missionário(s) e 0 Canibal(is) no barco\n",
            "Indo para a  Esquerda\n",
            "(2, 2, 0)  -->  (3, 2, 1)\n",
            "-------------------------------------------------------\n",
            "3° movimento: 0 Missionário(s) e 2 Canibal(is) no barco\n",
            "Indo para a  Direita\n",
            "(3, 2, 1)  -->  (3, 0, 0)\n",
            "-------------------------------------------------------\n",
            "4° movimento: 0 Missionário(s) e 1 Canibal(is) no barco\n",
            "Indo para a  Esquerda\n",
            "(3, 0, 0)  -->  (3, 1, 1)\n",
            "-------------------------------------------------------\n",
            "5° movimento: 2 Missionário(s) e 0 Canibal(is) no barco\n",
            "Indo para a  Direita\n",
            "(3, 1, 1)  -->  (1, 1, 0)\n",
            "-------------------------------------------------------\n",
            "6° movimento: 1 Missionário(s) e 1 Canibal(is) no barco\n",
            "Indo para a  Esquerda\n",
            "(1, 1, 0)  -->  (2, 2, 1)\n",
            "-------------------------------------------------------\n",
            "7° movimento: 2 Missionário(s) e 0 Canibal(is) no barco\n",
            "Indo para a  Direita\n",
            "(2, 2, 1)  -->  (0, 2, 0)\n",
            "-------------------------------------------------------\n",
            "8° movimento: 0 Missionário(s) e 1 Canibal(is) no barco\n",
            "Indo para a  Esquerda\n",
            "(0, 2, 0)  -->  (0, 3, 1)\n",
            "-------------------------------------------------------\n",
            "9° movimento: 0 Missionário(s) e 2 Canibal(is) no barco\n",
            "Indo para a  Direita\n",
            "(0, 3, 1)  -->  (0, 1, 0)\n",
            "-------------------------------------------------------\n",
            "10° movimento: 1 Missionário(s) e 0 Canibal(is) no barco\n",
            "Indo para a  Esquerda\n",
            "(0, 1, 0)  -->  (1, 1, 1)\n",
            "-------------------------------------------------------\n",
            "11° movimento: 1 Missionário(s) e 1 Canibal(is) no barco\n",
            "Indo para a  Direita\n",
            "(1, 1, 1)  -->  (0, 0, 0)\n",
            "-------------------------------------------------------\n"
          ]
        }
      ]
    }
  ]
}