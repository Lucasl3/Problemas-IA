{
  "nbformat": 4,
  "nbformat_minor": 0,
  "metadata": {
    "colab": {
      "name": "Metrô de Paris",
      "provenance": [],
      "collapsed_sections": [],
      "authorship_tag": "ABX9TyOzRplufZMx/xnU1IQEs3ua",
      "include_colab_link": true
    },
    "kernelspec": {
      "name": "python3",
      "display_name": "Python 3"
    },
    "language_info": {
      "name": "python"
    }
  },
  "cells": [
    {
      "cell_type": "markdown",
      "metadata": {
        "id": "view-in-github",
        "colab_type": "text"
      },
      "source": [
        "<a href=\"https://colab.research.google.com/github/Lucasl3/Problemas-IA/blob/main/Metr%C3%B4%20de%20Paris/Metr%C3%B4_de_Paris.ipynb\" target=\"_parent\"><img src=\"https://colab.research.google.com/assets/colab-badge.svg\" alt=\"Open In Colab\"/></a>"
      ]
    },
    {
      "cell_type": "code",
      "metadata": {
        "id": "HDqI07cvoYTV"
      },
      "source": [
        "from collections import deque"
      ],
      "execution_count": null,
      "outputs": []
    },
    {
      "cell_type": "code",
      "metadata": {
        "id": "n4tXunOwbV9k"
      },
      "source": [
        "grafo = {'E1': ['E2'],\n",
        "         'E2': ['E1', 'E3', 'E9', 'E10'],\n",
        "         'E3': ['E2', 'E4', 'E9', 'E13'],\n",
        "         'E4': ['E3', 'E5', 'E8', 'E13'],\n",
        "         'E5': ['E4', 'E7', 'E6', 'E8'],\n",
        "         'E6': ['E5'],\n",
        "         'E7': ['E5'],\n",
        "         'E8': ['E12', 'E5', 'E9', 'E4'],\n",
        "         'E9': ['E11', 'E2', 'E3', 'E8'],\n",
        "         'E10': ['E2'],\n",
        "         'E11': ['E9'],\n",
        "         'E12': ['E8'],\n",
        "         'E13': ['E14', 'E3', 'E4'],\n",
        "         'E14': ['E13']}\n",
        "\n",
        "pesos = [[0,11,20,27,40,43,39,28,18,10,18,30,30,32], \n",
        "         [0,0,9,16,29,32,28,19,11,4,17,23,21,24], \n",
        "         [0,0,0,7,20,22,19,15,10,11,21,21,13,18],\n",
        "         [0,0,0,0,13,16,12,13,13,18,26,21,11,17], \n",
        "         [0,0,0,0,0,3,2,21,25,31,28,27,16,20], \n",
        "         [0,0,0,0,0,0,4,23,28,33,41,30,17,20],\n",
        "         [0,0,0,0,0,0,0,22,25,29,38,28,13,17], \n",
        "         [0,0,0,0,0,0,0,0,9,22,18,7,25,30], \n",
        "         [0,0,0,0,0,0,0,0,0,13,12,12,23,28],\n",
        "         [0,0,0,0,0,0,0,0,0,0,20,27,20,23], \n",
        "         [0,0,0,0,0,0,0,0,0,0,0,15,35,39], \n",
        "         [0,0,0,0,0,0,0,0,0,0,0,0,31,37],\n",
        "         [0,0,0,0,0,0,0,0,0,0,0,0,0,5], \n",
        "         [0,0,0,0,0,0,0,0,0,0,0,0,0,0]]\n",
        "\n",
        "linhas = [['E1', 'E2', 'E3', 'E4', 'E5', 'E6'], \n",
        "          ['E11', 'E9', 'E3', 'E13'],\n",
        "          ['E10', 'E2', 'E9', 'E8', 'E5', 'E7'],\n",
        "          ['E12', 'E8', 'E4', 'E13', 'E14']]\n",
        "\n",
        "# 0 - Azul, 1 - Vermelha, 2 - Amarela, 3 - Verde\n",
        "# linhaAzul = ['E1', 'E2', 'E3', 'E4', 'E5', 'E6']\n",
        "# linhaVermelha = ['E11', 'E9', 'E3', 'E13']\n",
        "# linhaAmarela = ['E10', 'E2', 'E9', 'E8', 'E5', 'E7']\n",
        "# linhaVerde = ['E12', 'E8', 'E4', 'E13', 'E14']"
      ],
      "execution_count": null,
      "outputs": []
    },
    {
      "cell_type": "code",
      "metadata": {
        "id": "Deb89sEtcF6l"
      },
      "source": [
        "def trocouDeLinha(estacaoAnterior, atualEstacao, linhaAtual):\n",
        "  estacoes = [0, 1, 2, 3]\n",
        "  \n",
        "  if not ((estacaoAnterior in linhas[linhaAtual]) and (atualEstacao in linhas[linhaAtual])):\n",
        "    estacoes.pop(linhaAtual)\n",
        "    for linha in estacoes:\n",
        "      aux = set.intersection(set(linhas[linhaAtual]), set(linhas[linha]))\n",
        "      if estacaoAnterior in aux:\n",
        "        # print('Trocou')\n",
        "        return (True, linha)\n",
        "  else:\n",
        "    # print('Mesma estação')\n",
        "    return (False, linhaAtual)\n"
      ],
      "execution_count": null,
      "outputs": []
    },
    {
      "cell_type": "code",
      "metadata": {
        "id": "itgnVc4iwf97"
      },
      "source": [
        "def linhaInicio(estacao):\n",
        "  i = 0\n",
        "  while i < len(linhas):\n",
        "    if estacao in linhas[i]:\n",
        "      return i;\n",
        "    i = i + 1"
      ],
      "execution_count": null,
      "outputs": []
    },
    {
      "cell_type": "code",
      "metadata": {
        "id": "CqO3W_ROVt9S"
      },
      "source": [
        "def ordenaQueue(queue):\n",
        "  n = len(queue)\n",
        "  for i in range(n-1):\n",
        "    for j in range(0, n - i - 1):\n",
        "      if queue[j][2] > queue[j+1][2]:\n",
        "        queue[j], queue[j+1] = queue[j+1], queue[j]\n",
        "  return queue"
      ],
      "execution_count": null,
      "outputs": []
    },
    {
      "cell_type": "code",
      "metadata": {
        "id": "_d7ZYzLmfdHJ"
      },
      "source": [
        "def achaCaminho(caminho, origem, destino):\n",
        "  rota = deque()\n",
        "  pai = destino\n",
        "  rota.appendleft(pai)\n",
        "\n",
        "  while pai != origem:\n",
        "    pai = caminho[pai]\n",
        "    rota.appendleft(pai)\n",
        "  \n",
        "  return rota\n",
        "  # print(caminho)\n",
        "def printaMelhorRota(melhorRota):\n",
        "  rota = ''\n",
        "  for i, estacao in enumerate(melhorRota):\n",
        "    rota += estacao \n",
        "\n",
        "    if i != len(melhorRota) - 1:\n",
        "      rota += ' --> '\n",
        "      \n",
        "  print(rota)\n",
        "      "
      ],
      "execution_count": null,
      "outputs": []
    },
    {
      "cell_type": "code",
      "metadata": {
        "colab": {
          "base_uri": "https://localhost:8080/"
        },
        "id": "JRDQjAEjeqXd",
        "outputId": "2bdcfe33-a6f8-4364-ffef-13b79af56954"
      },
      "source": [
        "visitados = dict()\n",
        "\n",
        "def aStar(comeco, fim):\n",
        "  queue = deque()\n",
        "\n",
        "  linhaAtual = linhaInicio(comeco)\n",
        "  queue.append((comeco, 0, 0, comeco, linhaAtual))\n",
        "  estacaoFinal = int(fim[1::]) - 1\n",
        "  caminho = []\n",
        "  rota = dict()\n",
        "  \n",
        "  while queue:\n",
        "\n",
        "    estacaoAtual, custo, custoTotal, estacaoAnterior, linhaAtual = queue.popleft()\n",
        "    rota[estacaoAtual] = estacaoAnterior\n",
        "    visitados[estacaoAtual] = True\n",
        "\n",
        "    atualEstacao = estacaoAtual\n",
        "\n",
        "    trocouLinha, linhaAtual = trocouDeLinha(estacaoAnterior, atualEstacao, linhaAtual)\n",
        "\n",
        "    if estacaoAtual == fim:\n",
        "      adicional = 0\n",
        "      if trocouLinha: \n",
        "        adicional = 2\n",
        "      \n",
        "      return (rota, custo + adicional)\n",
        "      \n",
        "\n",
        "    proximasEstacoes = [x for x in grafo[estacaoAtual] if x not in visitados.keys()]\n",
        "\n",
        "\n",
        "    if not proximasEstacoes:\n",
        "      # print('Sem estações')\n",
        "      continue\n",
        "\n",
        "    atual = int(estacaoAtual[1::]) - 1\n",
        "\n",
        "    for proximaEstacao in proximasEstacoes:\n",
        "\n",
        "      proximaEstacaoInt = int(proximaEstacao[1::]) - 1\n",
        "\n",
        "      g = pesos[atual][proximaEstacaoInt]\n",
        "      if g == 0: g = pesos[proximaEstacaoInt][atual]\n",
        "      if trocouLinha:  g = g + custo + 2\n",
        "      else: g = g + custo\n",
        "      \n",
        "      h = pesos[proximaEstacaoInt][estacaoFinal]\n",
        "      if h == 0: h = pesos[estacaoFinal][proximaEstacaoInt]\n",
        "\n",
        "      f = g + h\n",
        "      queue.appendleft((proximaEstacao, g, f, estacaoAtual, linhaAtual))\n",
        "\n",
        "    queue = ordenaQueue(queue)\n",
        "\n",
        "def main():\n",
        "  origem = 'E12'\n",
        "  destino = 'E3'\n",
        "  caminho, custo = aStar(origem, destino)\n",
        "\n",
        "  melhorRota = achaCaminho(caminho, origem, destino)\n",
        "\n",
        "  printaMelhorRota(melhorRota)\n",
        "\n",
        "  tempoMin = (custo / 30) * 60\n",
        "  print('O tempo para o percurso acima foi de %.2f minutos' % (tempoMin))\n",
        "\n",
        "if __name__ == \"__main__\":\n",
        "  main()"
      ],
      "execution_count": null,
      "outputs": [
        {
          "output_type": "stream",
          "name": "stdout",
          "text": [
            "E12 --> E8 --> E4 --> E3\n",
            "O tempo para o percurso acima foi de 58.00 minutos\n"
          ]
        }
      ]
    }
  ]
}